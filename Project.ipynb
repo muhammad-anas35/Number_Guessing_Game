{
 "cells": [
  {
   "cell_type": "markdown",
   "metadata": {},
   "source": [
    "# ***Guess_My_Number***"
   ]
  },
  {
   "cell_type": "code",
   "execution_count": null,
   "metadata": {},
   "outputs": [
    {
     "name": "stdout",
     "output_type": "stream",
     "text": [
      "Guess the Number or stop \n",
      "Your entered number : 90 is greater than correct number : 22\n",
      "\n",
      "Guess the Number or stop \n",
      "Your entered number : 33 is less than correct number : 47\n",
      "\n",
      "Guess the Number or stop \n",
      "Game is Over\n"
     ]
    }
   ],
   "source": [
    "import random\n",
    "\n",
    "def main():\n",
    "  while True:\n",
    "    random_number =  random.randint(1,100)\n",
    "    print(\"Guess the Number or stop \")\n",
    "    user_choice = input(\"Enter 'G' to Guess or 'S' to Stop : \")\n",
    "    if user_choice.lower() == 's':\n",
    "      return print(\"Game is Over\")\n",
    "      break\n",
    "    elif user_choice.lower() == 'g':\n",
    "      try:\n",
    "          user_input = int(input(\"Enter Your Number : \"))\n",
    "      except ValueError:\n",
    "          print(\"Invalid input. Please enter a number between 1 and 100.\")\n",
    "\n",
    "      if user_input == random_number:\n",
    "            print(f\"Your entered number : {user_input} is correct\\n\")\n",
    "      elif user_input > random_number:\n",
    "            print(f\"Your entered number : {user_input} is greater than correct number : {random_number}\\n\")\n",
    "      elif user_input < random_number:\n",
    "            print(f\"Your entered number : {user_input} is less than correct number : {random_number}\\n\")\n",
    "      else:\n",
    "            print(\"Invalid Input No 1\")\n",
    "    else :\n",
    "        return print(\"Invalid Input No 2\")\n",
    "\n",
    "if __name__ == '__main__':\n",
    "  main()\n",
    "  "
   ]
  }
 ],
 "metadata": {
  "kernelspec": {
   "display_name": "Python 3",
   "language": "python",
   "name": "python3"
  },
  "language_info": {
   "codemirror_mode": {
    "name": "ipython",
    "version": 3
   },
   "file_extension": ".py",
   "mimetype": "text/x-python",
   "name": "python",
   "nbconvert_exporter": "python",
   "pygments_lexer": "ipython3",
   "version": "3.13.0"
  }
 },
 "nbformat": 4,
 "nbformat_minor": 2
}
